{
 "cells": [
  {
   "cell_type": "code",
   "execution_count": 1,
   "id": "3a3c7e4a-d357-428f-bd0c-e3a33f430399",
   "metadata": {
    "tags": []
   },
   "outputs": [],
   "source": [
    "import numpy as np\n",
    "import pandas as pd\n",
    "import pathlib\n",
    "import matplotlib.pyplot as plt\n",
    "import seaborn as sns\n",
    "\n",
    "from itertools import product\n",
    "\n",
    "%matplotlib inline"
   ]
  },
  {
   "cell_type": "code",
   "execution_count": 2,
   "id": "1652c292-5052-4ac2-9db5-81118451a9a4",
   "metadata": {},
   "outputs": [],
   "source": [
    "# Use the matplotlib plotting styles\n",
    "CURR_PATH = pathlib.Path().parent\n",
    "MPLSTYLE = CURR_PATH.joinpath(\"plotstyle.mplstyle\")\n",
    "plt.style.use(MPLSTYLE)"
   ]
  },
  {
   "cell_type": "code",
   "execution_count": 3,
   "id": "82dbe6c2-39fe-453b-8842-015c6016b82c",
   "metadata": {
    "tags": []
   },
   "outputs": [],
   "source": [
    "def read_txt_pd(otype: str = \"inclusive\", charge: str = \"nu\") -> pd.DataFrame:\n",
    "    \n",
    "    path = f\"clipped_nan_binned_sysevents_FASERv2_{otype}_{charge}.txt\"\n",
    "    fpath = CURR_PATH.joinpath(f\"NNPDF_commondata/stat_syst_uncertainties/{path}\")\n",
    "    \n",
    "    colnames = [\n",
    "        \"x_lower\", \n",
    "        \"x_upper\", \n",
    "        \"x_avg\", \n",
    "        \"Q2_lower\", \n",
    "        \"Q2_upper\", \n",
    "        \"Q2_avg\", \n",
    "        \"E_nu_lower\", \n",
    "        \"E_nu_upper\", \n",
    "        \"E_nu_avg\", \n",
    "        \"d^sigma/dxdQ2\", \n",
    "        \"N_events\", \n",
    "        \"N_events_errs\", \n",
    "        \"N_sys_errs\", \n",
    "        \"Percent_error_theta\", \n",
    "        \"Percent_error_Elepton\", \n",
    "        \"Percent_error_Ehadron\", \n",
    "        \"MC_Samples\",\n",
    "    ]\n",
    "    \n",
    "    return pd.read_csv(fpath, skiprows=2, delim_whitespace=True, names=colnames)"
   ]
  },
  {
   "cell_type": "code",
   "execution_count": 4,
   "id": "de6fef2c-7353-4b19-873f-dfd065c84c02",
   "metadata": {},
   "outputs": [],
   "source": [
    "def read_proper_cv(otype: str = \"inclusive\", charge: str = \"nu\") -> pd.DataFrame:\n",
    "    path = f\"diffxsec-FASERv2_{otype}_{charge}-a1_PDF4LHC21_mc_iso.txt\"\n",
    "    fpath = CURR_PATH.joinpath(f\"NNPDF_commondata/pineappl_tables/{path}\")\n",
    "\n",
    "    colnames = [\"x\", \"y\", \"Q2\", \"nu\", \"nub\"]\n",
    "\n",
    "    return pd.read_csv(fpath, skiprows=1, delim_whitespace=True, names=colnames)"
   ]
  },
  {
   "cell_type": "code",
   "execution_count": 5,
   "id": "25324ad3-8135-4b6b-a42b-91008cc19da5",
   "metadata": {},
   "outputs": [],
   "source": [
    "def map_q2values(q2_values):\n",
    "    sort_q2s = np.sort(q2_values.values).astype(int)\n",
    "    r1, r2 = np.array_split(sort_q2s, 2)\n",
    "    # r1, r2, r3 = np.array_split(sort_q2s, 3)\n",
    "    \n",
    "    def value_mmapping(q2_value):     \n",
    "        if q2_value <= r1[-1]:\n",
    "            return r\"$[\" + f\"{r1[0]},~{r1[-1]}\" + \"]~\\mathrm{GeV}^2$\"\n",
    "        elif (r2[0] <= q2_value) and (q2_value <= r2[-1]):\n",
    "            return r\"$[\" + f\"{r2[0]},~{r2[-1]}\" + \"]~\\mathrm{GeV}^2$\"\n",
    "        # else:\n",
    "        #     return r\"$[\" + f\"{r3[0]},~{r3[-1]}\" + \"]~\\mathrm{GeV}^2$\"\n",
    "\n",
    "    return value_mmapping"
   ]
  },
  {
   "cell_type": "code",
   "execution_count": 6,
   "id": "e6e691e1-6421-408c-bcec-f19dc069f92c",
   "metadata": {
    "tags": []
   },
   "outputs": [],
   "source": [
    "def combine_tables() -> pd.DataFrame:\n",
    "    otypes = [\"inclusive\", \"charm\"]\n",
    "    charges = [\"nu\", \"nub\"]\n",
    "    map_charges = {\"nu\": r\"$\\rm{neutrinos}~(\\nu)$\", \"nub\": r\"$\\rm{antineutrinos}~(\\bar{\\nu})$\"}\n",
    "    map_otypes = {\n",
    "        \"inclusive\": r\"$\\nu / \\bar{\\nu} + N \\to \\ell^{\\pm} + X$\",\n",
    "        \"charm\": r\"$\\nu / \\bar{\\nu} + N \\to \\ell^{\\pm} + c / \\bar{c} + X$\",\n",
    "    }\n",
    "    \n",
    "    combined_tables= []\n",
    "    for otype, charge in product(otypes, charges):\n",
    "        df = read_txt_pd(otype, charge)\n",
    "        df[\"otype\"] = [map_otypes[otype]] * len(df)\n",
    "        df[\"charge\"] = [map_charges[charge]] * len(df)\n",
    "\n",
    "        # Read the actual central values\n",
    "        cv_df = read_proper_cv(otype, charge)\n",
    "        df[\"sigma_stat\"] = 1.0 / df[\"N_events_errs\"].to_numpy() * cv_df[charge].to_numpy()\n",
    "        df[\"sigma_cv\"] = cv_df[charge].to_numpy()\n",
    "        df[\"sigma_frac\"] = (df[\"sigma_stat\"] * 100) / df[\"sigma_cv\"] / 100\n",
    "        \n",
    "        combined_tables.append(df)\n",
    "    \n",
    "    df_combined = pd.concat(combined_tables, ignore_index=True)\n",
    "    # Sort values by Q2s\n",
    "    df_combined = df_combined.sort_values(by=['Q2_avg'])\n",
    "    # Map the values of Q2 to some string ranges\n",
    "    df_combined[\"Q2_avg\"] = df_combined[\"Q2_avg\"].map(map_q2values(df_combined[\"Q2_avg\"]))\n",
    "\n",
    "    return df_combined"
   ]
  },
  {
   "cell_type": "code",
   "execution_count": 7,
   "id": "ce769fc3-1c5c-4569-b191-b73cb6f9810c",
   "metadata": {
    "tags": []
   },
   "outputs": [
    {
     "ename": "ValueError",
     "evalue": "operands could not be broadcast together with shapes (42,) (38,) ",
     "output_type": "error",
     "traceback": [
      "\u001b[0;31m---------------------------------------------------------------------------\u001b[0m",
      "\u001b[0;31mValueError\u001b[0m                                Traceback (most recent call last)",
      "Cell \u001b[0;32mIn[7], line 1\u001b[0m\n\u001b[0;32m----> 1\u001b[0m predictions \u001b[38;5;241m=\u001b[39m \u001b[43mcombine_tables\u001b[49m\u001b[43m(\u001b[49m\u001b[43m)\u001b[49m\n",
      "Cell \u001b[0;32mIn[6], line 18\u001b[0m, in \u001b[0;36mcombine_tables\u001b[0;34m()\u001b[0m\n\u001b[1;32m     16\u001b[0m \u001b[38;5;66;03m# Read the actual central values\u001b[39;00m\n\u001b[1;32m     17\u001b[0m cv_df \u001b[38;5;241m=\u001b[39m read_proper_cv(otype, charge)\n\u001b[0;32m---> 18\u001b[0m df[\u001b[38;5;124m\"\u001b[39m\u001b[38;5;124msigma_stat\u001b[39m\u001b[38;5;124m\"\u001b[39m] \u001b[38;5;241m=\u001b[39m \u001b[38;5;241;43m1.0\u001b[39;49m\u001b[43m \u001b[49m\u001b[38;5;241;43m/\u001b[39;49m\u001b[43m \u001b[49m\u001b[43mdf\u001b[49m\u001b[43m[\u001b[49m\u001b[38;5;124;43m\"\u001b[39;49m\u001b[38;5;124;43mN_events_errs\u001b[39;49m\u001b[38;5;124;43m\"\u001b[39;49m\u001b[43m]\u001b[49m\u001b[38;5;241;43m.\u001b[39;49m\u001b[43mto_numpy\u001b[49m\u001b[43m(\u001b[49m\u001b[43m)\u001b[49m\u001b[43m \u001b[49m\u001b[38;5;241;43m*\u001b[39;49m\u001b[43m \u001b[49m\u001b[43mcv_df\u001b[49m\u001b[43m[\u001b[49m\u001b[43mcharge\u001b[49m\u001b[43m]\u001b[49m\u001b[38;5;241;43m.\u001b[39;49m\u001b[43mto_numpy\u001b[49m\u001b[43m(\u001b[49m\u001b[43m)\u001b[49m\n\u001b[1;32m     19\u001b[0m df[\u001b[38;5;124m\"\u001b[39m\u001b[38;5;124msigma_cv\u001b[39m\u001b[38;5;124m\"\u001b[39m] \u001b[38;5;241m=\u001b[39m cv_df[charge]\u001b[38;5;241m.\u001b[39mto_numpy()\n\u001b[1;32m     20\u001b[0m df[\u001b[38;5;124m\"\u001b[39m\u001b[38;5;124msigma_frac\u001b[39m\u001b[38;5;124m\"\u001b[39m] \u001b[38;5;241m=\u001b[39m (df[\u001b[38;5;124m\"\u001b[39m\u001b[38;5;124msigma_stat\u001b[39m\u001b[38;5;124m\"\u001b[39m] \u001b[38;5;241m*\u001b[39m \u001b[38;5;241m100\u001b[39m) \u001b[38;5;241m/\u001b[39m df[\u001b[38;5;124m\"\u001b[39m\u001b[38;5;124msigma_cv\u001b[39m\u001b[38;5;124m\"\u001b[39m] \u001b[38;5;241m/\u001b[39m \u001b[38;5;241m100\u001b[39m\n",
      "\u001b[0;31mValueError\u001b[0m: operands could not be broadcast together with shapes (42,) (38,) "
     ]
    }
   ],
   "source": [
    "predictions = combine_tables()"
   ]
  },
  {
   "cell_type": "code",
   "execution_count": null,
   "id": "31e1d34b-0e0b-4963-a029-a7f7ec400278",
   "metadata": {},
   "outputs": [],
   "source": [
    "predictions[[\"sigma_stat\", \"sigma_cv\", \"sigma_frac\"]]"
   ]
  },
  {
   "cell_type": "code",
   "execution_count": null,
   "id": "af5c87b9-4841-487a-90db-de92b56cf7e1",
   "metadata": {
    "tags": []
   },
   "outputs": [],
   "source": [
    "rename_columns = {\n",
    "    \"Q2_avg\": r\"$Q^2~\\rm{Ranges}$\",\n",
    "    \"otype\": r\"$\\rm{Processes}$\",\n",
    "    \"charge\": r\"$\\rm{Projectile~Charges}$\",\n",
    "}\n",
    "\n",
    "def plot_percentage_error(data: pd.DataFrame):\n",
    "    fig, axs = plt.subplots(\n",
    "        nrows=2,\n",
    "        ncols=2,\n",
    "        sharey=False,\n",
    "        figsize=(5 * 2, 3 * 2),\n",
    "        # layout=\"constrained\",\n",
    "    )\n",
    "    \n",
    "    data = data.rename(columns=rename_columns)\n",
    "    \n",
    "    error_list = {\n",
    "        \"Percent_error_theta\": (0, 0),\n",
    "        \"Percent_error_Elepton\": (0, 1),\n",
    "        \"Percent_error_Ehadron\": (1, 0),\n",
    "        \"sigma_frac\": (1, 1)\n",
    "    }\n",
    "\n",
    "    for error, coord in error_list.items():\n",
    "        ax = axs[coord[0], coord[-1]]\n",
    "        legend = True if coord == (1, 1) else False\n",
    "        \n",
    "        sb = sns.scatterplot(\n",
    "            data=data,\n",
    "            x=\"x_avg\",\n",
    "            y=error,\n",
    "            hue=r\"$\\rm{Processes}$\",\n",
    "            style=r\"$\\rm{Projectile~Charges}$\",\n",
    "            size=r\"$Q^2~\\rm{Ranges}$\",\n",
    "            ax=ax,\n",
    "            legend=legend,\n",
    "        )\n",
    "    \n",
    "        ax.set_xscale(\"log\")\n",
    "\n",
    "        if coord == (0, 0) or coord == (0, 1):\n",
    "            sb.set(xlabel=None)\n",
    "            ax.set_xticklabels([])\n",
    "        else:\n",
    "            ax.set_xlabel(r\"$\\langle x \\rangle$\")\n",
    "\n",
    "        if error == \"Percent_error_theta\":\n",
    "            ax.set_ylabel(r\"$\\rm{Fractional~Error~}(\\theta)$\")\n",
    "            ax.set_ylim(top=0.25)\n",
    "        elif error == \"Percent_error_Elepton\":\n",
    "            ax.set_ylabel(r\"$\\rm{Fractional~Error~}(E_{\\ell})$\")\n",
    "            ax.set_ylim(top=0.2)\n",
    "        elif error == \"Percent_error_Ehadron\":\n",
    "            ax.set_ylabel(r\"$\\rm{Fractional~Error~}(E_{H})$\")\n",
    "            ax.set_ylim(top=0.6)\n",
    "        elif error == \"sigma_frac\":\n",
    "            ax.set_ylabel(r\"$\\rm{Fractional~Stat.~Error}$\")\n",
    "            ax.set_ylim(bottom=0.0)\n",
    "\n",
    "        if legend:\n",
    "            plt.legend(\n",
    "                bbox_to_anchor=(-1.2, 2.075, 2.2, 0.102),\n",
    "                loc=\"lower left\",\n",
    "                mode=\"expand\",\n",
    "                borderaxespad=0.0,\n",
    "                ncol=3,\n",
    "                fontsize=10,\n",
    "                fancybox=True,\n",
    "                edgecolor=\"inherit\",\n",
    "            )\n",
    "\n",
    "    # axs[0, 1].remove() # Do not display empty axes\n",
    "    fig.subplots_adjust(hspace=3e-2)\n",
    "    fig.savefig(\"plots/percentage_error_El.pdf\", bbox_inches=\"tight\", dpi=350)\n",
    "    plt.show()"
   ]
  },
  {
   "cell_type": "code",
   "execution_count": null,
   "id": "3fa34dcc-145b-48e6-b0f7-4cde0a72e027",
   "metadata": {
    "tags": []
   },
   "outputs": [],
   "source": [
    "plot_percentage_error(predictions)"
   ]
  },
  {
   "cell_type": "code",
   "execution_count": null,
   "id": "518cd01f-4163-4684-91e4-f1ca7b4edb3e",
   "metadata": {},
   "outputs": [],
   "source": []
  }
 ],
 "metadata": {
  "kernelspec": {
   "display_name": "nnpdf",
   "language": "python",
   "name": "nnpdf"
  },
  "language_info": {
   "codemirror_mode": {
    "name": "ipython",
    "version": 3
   },
   "file_extension": ".py",
   "mimetype": "text/x-python",
   "name": "python",
   "nbconvert_exporter": "python",
   "pygments_lexer": "ipython3",
   "version": "3.10.11"
  }
 },
 "nbformat": 4,
 "nbformat_minor": 5
}
